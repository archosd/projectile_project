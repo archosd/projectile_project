{
 "cells": [
  {
   "cell_type": "code",
   "execution_count": 1,
   "id": "3ae86693",
   "metadata": {},
   "outputs": [],
   "source": [
    "from projectile_package.projectile import flying_mass\n",
    "from projectile_package.projectile_plot import plot_xy"
   ]
  },
  {
   "cell_type": "code",
   "execution_count": null,
   "id": "8ebcfef0",
   "metadata": {},
   "outputs": [],
   "source": [
    "t, x, y, vx, vy = flying_mass(10., 10., mass=1., k=0.035)"
   ]
  },
  {
   "cell_type": "code",
   "execution_count": null,
   "id": "f2f1c749",
   "metadata": {},
   "outputs": [],
   "source": [
    "plot_xy(x, y)"
   ]
  },
  {
   "cell_type": "code",
   "execution_count": null,
   "id": "527a6977",
   "metadata": {},
   "outputs": [],
   "source": []
  }
 ],
 "metadata": {
  "kernelspec": {
   "display_name": "Python 3 (ipykernel)",
   "language": "python",
   "name": "python3"
  },
  "language_info": {
   "codemirror_mode": {
    "name": "ipython",
    "version": 3
   },
   "file_extension": ".py",
   "mimetype": "text/x-python",
   "name": "python",
   "nbconvert_exporter": "python",
   "pygments_lexer": "ipython3",
   "version": "3.11.4"
  }
 },
 "nbformat": 4,
 "nbformat_minor": 5
}
